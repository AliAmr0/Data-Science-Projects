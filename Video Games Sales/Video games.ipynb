{
 "cells": [
  {
   "cell_type": "markdown",
   "id": "dfa0d2a2",
   "metadata": {},
   "source": [
    "# Some Libraries that we will need  "
   ]
  },
  {
   "cell_type": "code",
   "execution_count": 2,
   "id": "60fbedb9",
   "metadata": {},
   "outputs": [],
   "source": [
    "# For preprocessing: \n",
    "import pandas as pd\n",
    "import numpy as np\n",
    "import matplotlib.pyplot as plt\n",
    "import seaborn as sns\n",
    "\n",
    "import warnings\n",
    "warnings.filterwarnings(\"ignore\")"
   ]
  },
  {
   "cell_type": "markdown",
   "id": "c32548c4",
   "metadata": {},
   "source": [
    "# First view of the data "
   ]
  },
  {
   "cell_type": "code",
   "execution_count": 4,
   "id": "8d961746",
   "metadata": {},
   "outputs": [
    {
     "data": {
      "text/html": [
       "<div>\n",
       "<style scoped>\n",
       "    .dataframe tbody tr th:only-of-type {\n",
       "        vertical-align: middle;\n",
       "    }\n",
       "\n",
       "    .dataframe tbody tr th {\n",
       "        vertical-align: top;\n",
       "    }\n",
       "\n",
       "    .dataframe thead th {\n",
       "        text-align: right;\n",
       "    }\n",
       "</style>\n",
       "<table border=\"1\" class=\"dataframe\">\n",
       "  <thead>\n",
       "    <tr style=\"text-align: right;\">\n",
       "      <th></th>\n",
       "      <th>Rank</th>\n",
       "      <th>Name</th>\n",
       "      <th>Platform</th>\n",
       "      <th>Year</th>\n",
       "      <th>Genre</th>\n",
       "      <th>Publisher</th>\n",
       "      <th>NA_Sales</th>\n",
       "      <th>EU_Sales</th>\n",
       "      <th>JP_Sales</th>\n",
       "      <th>Other_Sales</th>\n",
       "      <th>Global_Sales</th>\n",
       "    </tr>\n",
       "  </thead>\n",
       "  <tbody>\n",
       "    <tr>\n",
       "      <th>0</th>\n",
       "      <td>1</td>\n",
       "      <td>Wii Sports</td>\n",
       "      <td>Wii</td>\n",
       "      <td>2006.0</td>\n",
       "      <td>Sports</td>\n",
       "      <td>Nintendo</td>\n",
       "      <td>41.49</td>\n",
       "      <td>29.02</td>\n",
       "      <td>3.77</td>\n",
       "      <td>8.46</td>\n",
       "      <td>82.74</td>\n",
       "    </tr>\n",
       "    <tr>\n",
       "      <th>1</th>\n",
       "      <td>2</td>\n",
       "      <td>Super Mario Bros.</td>\n",
       "      <td>NES</td>\n",
       "      <td>1985.0</td>\n",
       "      <td>Platform</td>\n",
       "      <td>Nintendo</td>\n",
       "      <td>29.08</td>\n",
       "      <td>3.58</td>\n",
       "      <td>6.81</td>\n",
       "      <td>0.77</td>\n",
       "      <td>40.24</td>\n",
       "    </tr>\n",
       "    <tr>\n",
       "      <th>2</th>\n",
       "      <td>3</td>\n",
       "      <td>Mario Kart Wii</td>\n",
       "      <td>Wii</td>\n",
       "      <td>2008.0</td>\n",
       "      <td>Racing</td>\n",
       "      <td>Nintendo</td>\n",
       "      <td>15.85</td>\n",
       "      <td>12.88</td>\n",
       "      <td>3.79</td>\n",
       "      <td>3.31</td>\n",
       "      <td>35.82</td>\n",
       "    </tr>\n",
       "    <tr>\n",
       "      <th>3</th>\n",
       "      <td>4</td>\n",
       "      <td>Wii Sports Resort</td>\n",
       "      <td>Wii</td>\n",
       "      <td>2009.0</td>\n",
       "      <td>Sports</td>\n",
       "      <td>Nintendo</td>\n",
       "      <td>15.75</td>\n",
       "      <td>11.01</td>\n",
       "      <td>3.28</td>\n",
       "      <td>2.96</td>\n",
       "      <td>33.00</td>\n",
       "    </tr>\n",
       "    <tr>\n",
       "      <th>4</th>\n",
       "      <td>5</td>\n",
       "      <td>Pokemon Red/Pokemon Blue</td>\n",
       "      <td>GB</td>\n",
       "      <td>1996.0</td>\n",
       "      <td>Role-Playing</td>\n",
       "      <td>Nintendo</td>\n",
       "      <td>11.27</td>\n",
       "      <td>8.89</td>\n",
       "      <td>10.22</td>\n",
       "      <td>1.00</td>\n",
       "      <td>31.37</td>\n",
       "    </tr>\n",
       "  </tbody>\n",
       "</table>\n",
       "</div>"
      ],
      "text/plain": [
       "   Rank                      Name Platform    Year         Genre Publisher  \\\n",
       "0     1                Wii Sports      Wii  2006.0        Sports  Nintendo   \n",
       "1     2         Super Mario Bros.      NES  1985.0      Platform  Nintendo   \n",
       "2     3            Mario Kart Wii      Wii  2008.0        Racing  Nintendo   \n",
       "3     4         Wii Sports Resort      Wii  2009.0        Sports  Nintendo   \n",
       "4     5  Pokemon Red/Pokemon Blue       GB  1996.0  Role-Playing  Nintendo   \n",
       "\n",
       "   NA_Sales  EU_Sales  JP_Sales  Other_Sales  Global_Sales  \n",
       "0     41.49     29.02      3.77         8.46         82.74  \n",
       "1     29.08      3.58      6.81         0.77         40.24  \n",
       "2     15.85     12.88      3.79         3.31         35.82  \n",
       "3     15.75     11.01      3.28         2.96         33.00  \n",
       "4     11.27      8.89     10.22         1.00         31.37  "
      ]
     },
     "execution_count": 4,
     "metadata": {},
     "output_type": "execute_result"
    }
   ],
   "source": [
    "df = pd.read_csv(\"D:/Mzakra/Projects/Video Games Sales/vgsales.csv\")\n",
    "df.head()"
   ]
  },
  {
   "cell_type": "code",
   "execution_count": 6,
   "id": "ae1a19a7",
   "metadata": {},
   "outputs": [
    {
     "name": "stdout",
     "output_type": "stream",
     "text": [
      "There are 16598 observations and 11 features in this dataset. \n",
      "\n"
     ]
    }
   ],
   "source": [
    "print(\"There are {} observations and {} features in this dataset. \\n\".format(df.shape[0],df.shape[1]))"
   ]
  },
  {
   "cell_type": "code",
   "execution_count": 8,
   "id": "c624ee77",
   "metadata": {},
   "outputs": [
    {
     "name": "stdout",
     "output_type": "stream",
     "text": [
      "<class 'pandas.core.frame.DataFrame'>\n",
      "RangeIndex: 16598 entries, 0 to 16597\n",
      "Data columns (total 11 columns):\n",
      " #   Column        Non-Null Count  Dtype  \n",
      "---  ------        --------------  -----  \n",
      " 0   Rank          16598 non-null  int64  \n",
      " 1   Name          16598 non-null  object \n",
      " 2   Platform      16598 non-null  object \n",
      " 3   Year          16327 non-null  float64\n",
      " 4   Genre         16598 non-null  object \n",
      " 5   Publisher     16540 non-null  object \n",
      " 6   NA_Sales      16598 non-null  float64\n",
      " 7   EU_Sales      16598 non-null  float64\n",
      " 8   JP_Sales      16598 non-null  float64\n",
      " 9   Other_Sales   16598 non-null  float64\n",
      " 10  Global_Sales  16598 non-null  float64\n",
      "dtypes: float64(6), int64(1), object(4)\n",
      "memory usage: 1.4+ MB\n"
     ]
    }
   ],
   "source": [
    "df.info()"
   ]
  },
  {
   "cell_type": "markdown",
   "id": "ccf69d56",
   "metadata": {},
   "source": [
    "* There is a small amount of null values.\n",
    "* The (\"Year\") column datatype can be an int so we will change it later.\n",
    "* The datatypes seems alright."
   ]
  },
  {
   "cell_type": "code",
   "execution_count": 9,
   "id": "e7c04598",
   "metadata": {},
   "outputs": [
    {
     "data": {
      "text/html": [
       "<div>\n",
       "<style scoped>\n",
       "    .dataframe tbody tr th:only-of-type {\n",
       "        vertical-align: middle;\n",
       "    }\n",
       "\n",
       "    .dataframe tbody tr th {\n",
       "        vertical-align: top;\n",
       "    }\n",
       "\n",
       "    .dataframe thead th {\n",
       "        text-align: right;\n",
       "    }\n",
       "</style>\n",
       "<table border=\"1\" class=\"dataframe\">\n",
       "  <thead>\n",
       "    <tr style=\"text-align: right;\">\n",
       "      <th></th>\n",
       "      <th>Rank</th>\n",
       "      <th>Year</th>\n",
       "      <th>NA_Sales</th>\n",
       "      <th>EU_Sales</th>\n",
       "      <th>JP_Sales</th>\n",
       "      <th>Other_Sales</th>\n",
       "      <th>Global_Sales</th>\n",
       "    </tr>\n",
       "  </thead>\n",
       "  <tbody>\n",
       "    <tr>\n",
       "      <th>count</th>\n",
       "      <td>16598.000000</td>\n",
       "      <td>16327.000000</td>\n",
       "      <td>16598.000000</td>\n",
       "      <td>16598.000000</td>\n",
       "      <td>16598.000000</td>\n",
       "      <td>16598.000000</td>\n",
       "      <td>16598.000000</td>\n",
       "    </tr>\n",
       "    <tr>\n",
       "      <th>mean</th>\n",
       "      <td>8300.605254</td>\n",
       "      <td>2006.406443</td>\n",
       "      <td>0.264667</td>\n",
       "      <td>0.146652</td>\n",
       "      <td>0.077782</td>\n",
       "      <td>0.048063</td>\n",
       "      <td>0.537441</td>\n",
       "    </tr>\n",
       "    <tr>\n",
       "      <th>std</th>\n",
       "      <td>4791.853933</td>\n",
       "      <td>5.828981</td>\n",
       "      <td>0.816683</td>\n",
       "      <td>0.505351</td>\n",
       "      <td>0.309291</td>\n",
       "      <td>0.188588</td>\n",
       "      <td>1.555028</td>\n",
       "    </tr>\n",
       "    <tr>\n",
       "      <th>min</th>\n",
       "      <td>1.000000</td>\n",
       "      <td>1980.000000</td>\n",
       "      <td>0.000000</td>\n",
       "      <td>0.000000</td>\n",
       "      <td>0.000000</td>\n",
       "      <td>0.000000</td>\n",
       "      <td>0.010000</td>\n",
       "    </tr>\n",
       "    <tr>\n",
       "      <th>25%</th>\n",
       "      <td>4151.250000</td>\n",
       "      <td>2003.000000</td>\n",
       "      <td>0.000000</td>\n",
       "      <td>0.000000</td>\n",
       "      <td>0.000000</td>\n",
       "      <td>0.000000</td>\n",
       "      <td>0.060000</td>\n",
       "    </tr>\n",
       "    <tr>\n",
       "      <th>50%</th>\n",
       "      <td>8300.500000</td>\n",
       "      <td>2007.000000</td>\n",
       "      <td>0.080000</td>\n",
       "      <td>0.020000</td>\n",
       "      <td>0.000000</td>\n",
       "      <td>0.010000</td>\n",
       "      <td>0.170000</td>\n",
       "    </tr>\n",
       "    <tr>\n",
       "      <th>75%</th>\n",
       "      <td>12449.750000</td>\n",
       "      <td>2010.000000</td>\n",
       "      <td>0.240000</td>\n",
       "      <td>0.110000</td>\n",
       "      <td>0.040000</td>\n",
       "      <td>0.040000</td>\n",
       "      <td>0.470000</td>\n",
       "    </tr>\n",
       "    <tr>\n",
       "      <th>max</th>\n",
       "      <td>16600.000000</td>\n",
       "      <td>2020.000000</td>\n",
       "      <td>41.490000</td>\n",
       "      <td>29.020000</td>\n",
       "      <td>10.220000</td>\n",
       "      <td>10.570000</td>\n",
       "      <td>82.740000</td>\n",
       "    </tr>\n",
       "  </tbody>\n",
       "</table>\n",
       "</div>"
      ],
      "text/plain": [
       "               Rank          Year      NA_Sales      EU_Sales      JP_Sales  \\\n",
       "count  16598.000000  16327.000000  16598.000000  16598.000000  16598.000000   \n",
       "mean    8300.605254   2006.406443      0.264667      0.146652      0.077782   \n",
       "std     4791.853933      5.828981      0.816683      0.505351      0.309291   \n",
       "min        1.000000   1980.000000      0.000000      0.000000      0.000000   \n",
       "25%     4151.250000   2003.000000      0.000000      0.000000      0.000000   \n",
       "50%     8300.500000   2007.000000      0.080000      0.020000      0.000000   \n",
       "75%    12449.750000   2010.000000      0.240000      0.110000      0.040000   \n",
       "max    16600.000000   2020.000000     41.490000     29.020000     10.220000   \n",
       "\n",
       "        Other_Sales  Global_Sales  \n",
       "count  16598.000000  16598.000000  \n",
       "mean       0.048063      0.537441  \n",
       "std        0.188588      1.555028  \n",
       "min        0.000000      0.010000  \n",
       "25%        0.000000      0.060000  \n",
       "50%        0.010000      0.170000  \n",
       "75%        0.040000      0.470000  \n",
       "max       10.570000     82.740000  "
      ]
     },
     "execution_count": 9,
     "metadata": {},
     "output_type": "execute_result"
    }
   ],
   "source": [
    "df.describe()"
   ]
  },
  {
   "cell_type": "markdown",
   "id": "5429883a",
   "metadata": {},
   "source": [
    "* The data seems fine no outliers so far."
   ]
  },
  {
   "cell_type": "code",
   "execution_count": 10,
   "id": "331afdd6",
   "metadata": {},
   "outputs": [
    {
     "name": "stdout",
     "output_type": "stream",
     "text": [
      "\n",
      " ************ Rank ************\n",
      "\n",
      "\n",
      " 1        1\n",
      "11089    1\n",
      "11059    1\n",
      "11060    1\n",
      "11061    1\n",
      "        ..\n",
      "5539     1\n",
      "5540     1\n",
      "5541     1\n",
      "5542     1\n",
      "16600    1\n",
      "Name: Rank, Length: 16598, dtype: int64\n",
      "\n",
      " count    16598.000000\n",
      "mean      8300.605254\n",
      "std       4791.853933\n",
      "min          1.000000\n",
      "25%       4151.250000\n",
      "50%       8300.500000\n",
      "75%      12449.750000\n",
      "max      16600.000000\n",
      "Name: Rank, dtype: float64 \n",
      "\n",
      "\n",
      " ************ Name ************\n",
      "\n",
      "\n",
      " Need for Speed: Most Wanted                12\n",
      "Ratatouille                                 9\n",
      "FIFA 14                                     9\n",
      "LEGO Marvel Super Heroes                    9\n",
      "Madden NFL 07                               9\n",
      "                                           ..\n",
      "Ar tonelico Qoga: Knell of Ar Ciel          1\n",
      "Galaga: Destination Earth                   1\n",
      "Nintendo Presents: Crossword Collection     1\n",
      "TrackMania: Build to Race                   1\n",
      "Know How 2                                  1\n",
      "Name: Name, Length: 11493, dtype: int64\n",
      "\n",
      " count                           16598\n",
      "unique                          11493\n",
      "top       Need for Speed: Most Wanted\n",
      "freq                               12\n",
      "Name: Name, dtype: object \n",
      "\n",
      "\n",
      " ************ Platform ************\n",
      "\n",
      "\n",
      " DS      2163\n",
      "PS2     2161\n",
      "PS3     1329\n",
      "Wii     1325\n",
      "X360    1265\n",
      "PSP     1213\n",
      "PS      1196\n",
      "PC       960\n",
      "XB       824\n",
      "GBA      822\n",
      "GC       556\n",
      "3DS      509\n",
      "PSV      413\n",
      "PS4      336\n",
      "N64      319\n",
      "SNES     239\n",
      "XOne     213\n",
      "SAT      173\n",
      "WiiU     143\n",
      "2600     133\n",
      "NES       98\n",
      "GB        98\n",
      "DC        52\n",
      "GEN       27\n",
      "NG        12\n",
      "SCD        6\n",
      "WS         6\n",
      "3DO        3\n",
      "TG16       2\n",
      "GG         1\n",
      "PCFX       1\n",
      "Name: Platform, dtype: int64\n",
      "\n",
      " count     16598\n",
      "unique       31\n",
      "top          DS\n",
      "freq       2163\n",
      "Name: Platform, dtype: object \n",
      "\n",
      "\n",
      " ************ Year ************\n",
      "\n",
      "\n",
      " 2009.0    1431\n",
      "2008.0    1428\n",
      "2010.0    1259\n",
      "2007.0    1202\n",
      "2011.0    1139\n",
      "2006.0    1008\n",
      "2005.0     941\n",
      "2002.0     829\n",
      "2003.0     775\n",
      "2004.0     763\n",
      "2012.0     657\n",
      "2015.0     614\n",
      "2014.0     582\n",
      "2013.0     546\n",
      "2001.0     482\n",
      "1998.0     379\n",
      "2000.0     349\n",
      "2016.0     344\n",
      "1999.0     338\n",
      "1997.0     289\n",
      "1996.0     263\n",
      "1995.0     219\n",
      "1994.0     121\n",
      "1993.0      60\n",
      "1981.0      46\n",
      "1992.0      43\n",
      "1991.0      41\n",
      "1982.0      36\n",
      "1986.0      21\n",
      "1989.0      17\n",
      "1983.0      17\n",
      "1990.0      16\n",
      "1987.0      16\n",
      "1988.0      15\n",
      "1985.0      14\n",
      "1984.0      14\n",
      "1980.0       9\n",
      "2017.0       3\n",
      "2020.0       1\n",
      "Name: Year, dtype: int64\n",
      "\n",
      " count    16327.000000\n",
      "mean      2006.406443\n",
      "std          5.828981\n",
      "min       1980.000000\n",
      "25%       2003.000000\n",
      "50%       2007.000000\n",
      "75%       2010.000000\n",
      "max       2020.000000\n",
      "Name: Year, dtype: float64 \n",
      "\n",
      "\n",
      " ************ Genre ************\n",
      "\n",
      "\n",
      " Action          3316\n",
      "Sports          2346\n",
      "Misc            1739\n",
      "Role-Playing    1488\n",
      "Shooter         1310\n",
      "Adventure       1286\n",
      "Racing          1249\n",
      "Platform         886\n",
      "Simulation       867\n",
      "Fighting         848\n",
      "Strategy         681\n",
      "Puzzle           582\n",
      "Name: Genre, dtype: int64\n",
      "\n",
      " count      16598\n",
      "unique        12\n",
      "top       Action\n",
      "freq        3316\n",
      "Name: Genre, dtype: object \n",
      "\n",
      "\n",
      " ************ Publisher ************\n",
      "\n",
      "\n",
      " Electronic Arts                 1351\n",
      "Activision                       975\n",
      "Namco Bandai Games               932\n",
      "Ubisoft                          921\n",
      "Konami Digital Entertainment     832\n",
      "                                ... \n",
      "Warp                               1\n",
      "New                                1\n",
      "Elite                              1\n",
      "Evolution Games                    1\n",
      "UIG Entertainment                  1\n",
      "Name: Publisher, Length: 578, dtype: int64\n",
      "\n",
      " count               16540\n",
      "unique                578\n",
      "top       Electronic Arts\n",
      "freq                 1351\n",
      "Name: Publisher, dtype: object \n",
      "\n",
      "\n",
      " ************ NA_Sales ************\n",
      "\n",
      "\n",
      " 0.00    4499\n",
      "0.02     550\n",
      "0.01     541\n",
      "0.03     533\n",
      "0.05     530\n",
      "        ... \n",
      "2.97       1\n",
      "2.54       1\n",
      "2.95       1\n",
      "3.28       1\n",
      "3.19       1\n",
      "Name: NA_Sales, Length: 409, dtype: int64\n",
      "\n",
      " count    16598.000000\n",
      "mean         0.264667\n",
      "std          0.816683\n",
      "min          0.000000\n",
      "25%          0.000000\n",
      "50%          0.080000\n",
      "75%          0.240000\n",
      "max         41.490000\n",
      "Name: NA_Sales, dtype: float64 \n",
      "\n",
      "\n",
      " ************ EU_Sales ************\n",
      "\n",
      "\n",
      " 0.00     5730\n",
      "0.01     1496\n",
      "0.02     1269\n",
      "0.03      934\n",
      "0.04      748\n",
      "         ... \n",
      "3.42        1\n",
      "2.38        1\n",
      "1.99        1\n",
      "2.10        1\n",
      "29.02       1\n",
      "Name: EU_Sales, Length: 305, dtype: int64\n",
      "\n",
      " count    16598.000000\n",
      "mean         0.146652\n",
      "std          0.505351\n",
      "min          0.000000\n",
      "25%          0.000000\n",
      "50%          0.020000\n",
      "75%          0.110000\n",
      "max         29.020000\n",
      "Name: EU_Sales, dtype: float64 \n",
      "\n",
      "\n",
      " ************ JP_Sales ************\n",
      "\n",
      "\n",
      " 0.00    10455\n",
      "0.02      728\n",
      "0.01      704\n",
      "0.03      528\n",
      "0.04      397\n",
      "        ...  \n",
      "2.32        1\n",
      "2.47        1\n",
      "3.00        1\n",
      "2.55        1\n",
      "1.91        1\n",
      "Name: JP_Sales, Length: 244, dtype: int64\n",
      "\n",
      " count    16598.000000\n",
      "mean         0.077782\n",
      "std          0.309291\n",
      "min          0.000000\n",
      "25%          0.000000\n",
      "50%          0.000000\n",
      "75%          0.040000\n",
      "max         10.220000\n",
      "Name: JP_Sales, dtype: float64 \n",
      "\n",
      "\n",
      " ************ Other_Sales ************\n",
      "\n",
      "\n",
      " 0.00    6477\n",
      "0.01    3445\n",
      "0.02    1582\n",
      "0.03     939\n",
      "0.04     666\n",
      "        ... \n",
      "0.98       1\n",
      "1.63       1\n",
      "2.12       1\n",
      "7.53       1\n",
      "0.93       1\n",
      "Name: Other_Sales, Length: 157, dtype: int64\n",
      "\n",
      " count    16598.000000\n",
      "mean         0.048063\n",
      "std          0.188588\n",
      "min          0.000000\n",
      "25%          0.000000\n",
      "50%          0.010000\n",
      "75%          0.040000\n",
      "max         10.570000\n",
      "Name: Other_Sales, dtype: float64 \n",
      "\n",
      "\n",
      " ************ Global_Sales ************\n",
      "\n",
      "\n",
      " 0.02    1071\n",
      "0.03     811\n",
      "0.04     645\n",
      "0.05     632\n",
      "0.01     618\n",
      "        ... \n",
      "5.01       1\n",
      "5.05       1\n",
      "5.07       1\n",
      "5.11       1\n",
      "3.16       1\n",
      "Name: Global_Sales, Length: 623, dtype: int64\n",
      "\n",
      " count    16598.000000\n",
      "mean         0.537441\n",
      "std          1.555028\n",
      "min          0.010000\n",
      "25%          0.060000\n",
      "50%          0.170000\n",
      "75%          0.470000\n",
      "max         82.740000\n",
      "Name: Global_Sales, dtype: float64 \n",
      "\n"
     ]
    }
   ],
   "source": [
    "for i in list(df.columns):\n",
    "    \n",
    "    print(\"\\n ************ \"+i+\" ************\\n\")\n",
    "    print(\"\\n\",df[i].value_counts())\n",
    "    print(\"\\n\",df[i].describe(),\"\\n\")"
   ]
  },
  {
   "cell_type": "markdown",
   "id": "021d015f",
   "metadata": {},
   "source": [
    "**Observations:**\n",
    "* Everything seems alright."
   ]
  },
  {
   "cell_type": "markdown",
   "id": "a3b292ca",
   "metadata": {},
   "source": [
    "# Basic Cleaning"
   ]
  },
  {
   "cell_type": "code",
   "execution_count": 15,
   "id": "93f05a09",
   "metadata": {},
   "outputs": [
    {
     "data": {
      "text/plain": [
       "0"
      ]
     },
     "execution_count": 15,
     "metadata": {},
     "output_type": "execute_result"
    }
   ],
   "source": [
    "# Checking for duplicates\n",
    "\n",
    "df.duplicated().sum()"
   ]
  },
  {
   "cell_type": "code",
   "execution_count": 16,
   "id": "4d5e5306",
   "metadata": {},
   "outputs": [
    {
     "data": {
      "text/plain": [
       "Rank              0\n",
       "Name              0\n",
       "Platform          0\n",
       "Year            271\n",
       "Genre             0\n",
       "Publisher        58\n",
       "NA_Sales          0\n",
       "EU_Sales          0\n",
       "JP_Sales          0\n",
       "Other_Sales       0\n",
       "Global_Sales      0\n",
       "dtype: int64"
      ]
     },
     "execution_count": 16,
     "metadata": {},
     "output_type": "execute_result"
    }
   ],
   "source": [
    "# View the Null values\n",
    "\n",
    "df.isna().sum()"
   ]
  },
  {
   "cell_type": "code",
   "execution_count": 20,
   "id": "6e68ead7",
   "metadata": {},
   "outputs": [
    {
     "name": "stdout",
     "output_type": "stream",
     "text": [
      "0.02\n"
     ]
    }
   ],
   "source": [
    "# Checking the % of the null values\n",
    "\n",
    "print(round(271 / df.shape[0], 2)) "
   ]
  },
  {
   "cell_type": "markdown",
   "id": "44b252ef",
   "metadata": {},
   "source": [
    "* It's alittle % so we will drop it"
   ]
  },
  {
   "cell_type": "code",
   "execution_count": 21,
   "id": "119d0013",
   "metadata": {},
   "outputs": [
    {
     "data": {
      "text/plain": [
       "Rank            0\n",
       "Name            0\n",
       "Platform        0\n",
       "Year            0\n",
       "Genre           0\n",
       "Publisher       0\n",
       "NA_Sales        0\n",
       "EU_Sales        0\n",
       "JP_Sales        0\n",
       "Other_Sales     0\n",
       "Global_Sales    0\n",
       "dtype: int64"
      ]
     },
     "execution_count": 21,
     "metadata": {},
     "output_type": "execute_result"
    }
   ],
   "source": [
    "# Droping Null values\n",
    "\n",
    "df.dropna(inplace = True)\n",
    "df.isna().sum()"
   ]
  },
  {
   "cell_type": "code",
   "execution_count": 30,
   "id": "3b364ca7",
   "metadata": {},
   "outputs": [],
   "source": [
    "# Changing (\"Year\") column data type to int\n",
    "\n",
    "df['Year'] = pd.to_numeric(df[\"Year\"])"
   ]
  },
  {
   "cell_type": "code",
   "execution_count": 29,
   "id": "c73fd6ac",
   "metadata": {},
   "outputs": [
    {
     "data": {
      "text/plain": [
       "dtype('int64')"
      ]
     },
     "execution_count": 29,
     "metadata": {},
     "output_type": "execute_result"
    }
   ],
   "source": [
    "df[\"Year\"].dtype"
   ]
  },
  {
   "cell_type": "markdown",
   "id": "8a9d65ac",
   "metadata": {},
   "source": [
    "#  Visualisation & Insights"
   ]
  },
  {
   "cell_type": "code",
   "execution_count": 47,
   "id": "2f16d307",
   "metadata": {},
   "outputs": [
    {
     "data": {
      "text/html": [
       "<div>\n",
       "<style scoped>\n",
       "    .dataframe tbody tr th:only-of-type {\n",
       "        vertical-align: middle;\n",
       "    }\n",
       "\n",
       "    .dataframe tbody tr th {\n",
       "        vertical-align: top;\n",
       "    }\n",
       "\n",
       "    .dataframe thead th {\n",
       "        text-align: right;\n",
       "    }\n",
       "</style>\n",
       "<table border=\"1\" class=\"dataframe\">\n",
       "  <thead>\n",
       "    <tr style=\"text-align: right;\">\n",
       "      <th></th>\n",
       "      <th>Rank</th>\n",
       "      <th>Name</th>\n",
       "      <th>Platform</th>\n",
       "      <th>Year</th>\n",
       "      <th>Genre</th>\n",
       "      <th>Publisher</th>\n",
       "      <th>NA_Sales</th>\n",
       "      <th>EU_Sales</th>\n",
       "      <th>JP_Sales</th>\n",
       "      <th>Other_Sales</th>\n",
       "      <th>Global_Sales</th>\n",
       "    </tr>\n",
       "  </thead>\n",
       "  <tbody>\n",
       "    <tr>\n",
       "      <th>0</th>\n",
       "      <td>1</td>\n",
       "      <td>Wii Sports</td>\n",
       "      <td>Wii</td>\n",
       "      <td>2006</td>\n",
       "      <td>Sports</td>\n",
       "      <td>Nintendo</td>\n",
       "      <td>41.49</td>\n",
       "      <td>29.02</td>\n",
       "      <td>3.77</td>\n",
       "      <td>8.46</td>\n",
       "      <td>82.74</td>\n",
       "    </tr>\n",
       "    <tr>\n",
       "      <th>1</th>\n",
       "      <td>2</td>\n",
       "      <td>Super Mario Bros.</td>\n",
       "      <td>NES</td>\n",
       "      <td>1985</td>\n",
       "      <td>Platform</td>\n",
       "      <td>Nintendo</td>\n",
       "      <td>29.08</td>\n",
       "      <td>3.58</td>\n",
       "      <td>6.81</td>\n",
       "      <td>0.77</td>\n",
       "      <td>40.24</td>\n",
       "    </tr>\n",
       "    <tr>\n",
       "      <th>2</th>\n",
       "      <td>3</td>\n",
       "      <td>Mario Kart Wii</td>\n",
       "      <td>Wii</td>\n",
       "      <td>2008</td>\n",
       "      <td>Racing</td>\n",
       "      <td>Nintendo</td>\n",
       "      <td>15.85</td>\n",
       "      <td>12.88</td>\n",
       "      <td>3.79</td>\n",
       "      <td>3.31</td>\n",
       "      <td>35.82</td>\n",
       "    </tr>\n",
       "    <tr>\n",
       "      <th>3</th>\n",
       "      <td>4</td>\n",
       "      <td>Wii Sports Resort</td>\n",
       "      <td>Wii</td>\n",
       "      <td>2009</td>\n",
       "      <td>Sports</td>\n",
       "      <td>Nintendo</td>\n",
       "      <td>15.75</td>\n",
       "      <td>11.01</td>\n",
       "      <td>3.28</td>\n",
       "      <td>2.96</td>\n",
       "      <td>33.00</td>\n",
       "    </tr>\n",
       "    <tr>\n",
       "      <th>4</th>\n",
       "      <td>5</td>\n",
       "      <td>Pokemon Red/Pokemon Blue</td>\n",
       "      <td>GB</td>\n",
       "      <td>1996</td>\n",
       "      <td>Role-Playing</td>\n",
       "      <td>Nintendo</td>\n",
       "      <td>11.27</td>\n",
       "      <td>8.89</td>\n",
       "      <td>10.22</td>\n",
       "      <td>1.00</td>\n",
       "      <td>31.37</td>\n",
       "    </tr>\n",
       "  </tbody>\n",
       "</table>\n",
       "</div>"
      ],
      "text/plain": [
       "   Rank                      Name Platform  Year         Genre Publisher  \\\n",
       "0     1                Wii Sports      Wii  2006        Sports  Nintendo   \n",
       "1     2         Super Mario Bros.      NES  1985      Platform  Nintendo   \n",
       "2     3            Mario Kart Wii      Wii  2008        Racing  Nintendo   \n",
       "3     4         Wii Sports Resort      Wii  2009        Sports  Nintendo   \n",
       "4     5  Pokemon Red/Pokemon Blue       GB  1996  Role-Playing  Nintendo   \n",
       "\n",
       "   NA_Sales  EU_Sales  JP_Sales  Other_Sales  Global_Sales  \n",
       "0     41.49     29.02      3.77         8.46         82.74  \n",
       "1     29.08      3.58      6.81         0.77         40.24  \n",
       "2     15.85     12.88      3.79         3.31         35.82  \n",
       "3     15.75     11.01      3.28         2.96         33.00  \n",
       "4     11.27      8.89     10.22         1.00         31.37  "
      ]
     },
     "execution_count": 47,
     "metadata": {},
     "output_type": "execute_result"
    }
   ],
   "source": [
    "df.head()"
   ]
  },
  {
   "cell_type": "code",
   "execution_count": 44,
   "id": "6d9b9cbb",
   "metadata": {},
   "outputs": [
    {
     "data": {
      "text/plain": [
       "11325"
      ]
     },
     "execution_count": 44,
     "metadata": {},
     "output_type": "execute_result"
    }
   ],
   "source": [
    "# Number of unique Games\n",
    "\n",
    "df[\"Name\"].nunique()"
   ]
  },
  {
   "cell_type": "code",
   "execution_count": 70,
   "id": "64ef1783",
   "metadata": {},
   "outputs": [
    {
     "data": {
      "image/png": "[encoded data removed]",
      "text/plain": [
       "<Figure size 1200x600 with 1 Axes>"
      ]
     },
     "metadata": {},
     "output_type": "display_data"
    }
   ],
   "source": [
    "# Top 10 Video_games platform\n",
    "\n",
    "Platform_counts = df['Platform'].value_counts()\n",
    "Platform_counts[:10].plot(kind = 'barh', color = sns.color_palette(\"Blues_r\"), title = \"Top 10 Platform\", figsize = (12,6));"
   ]
  },
  {
   "cell_type": "markdown",
   "id": "7c627108",
   "metadata": {},
   "source": [
    "### ▶️ DS & PS2 is the most 2 Platform making Video_Games"
   ]
  },
  {
   "cell_type": "code",
   "execution_count": 67,
   "id": "80f54969",
   "metadata": {},
   "outputs": [
    {
     "data": {
      "image/png": "[encoded data removed]",
      "text/plain": [
       "<Figure size 1200x600 with 1 Axes>"
      ]
     },
     "metadata": {},
     "output_type": "display_data"
    }
   ],
   "source": [
    "# Time Stamp for Games year\n",
    "\n",
    "release_year = df['Year'].value_counts()\n",
    "x_values = release_year.values\n",
    "plt.figure(figsize=(12,6))\n",
    "sns.lineplot(data = release_year)\n",
    "plt.xlabel(\"Years\")\n",
    "plt.ylabel(\"Frequent\");"
   ]
  },
  {
   "cell_type": "markdown",
   "id": "9d2c9c7d",
   "metadata": {},
   "source": [
    "### ▶️Year 2009 is the most year making Video_Games"
   ]
  },
  {
   "cell_type": "code",
   "execution_count": 71,
   "id": "2b69adb9",
   "metadata": {},
   "outputs": [
    {
     "data": {
      "image/png": "[encoded data removed]",
      "text/plain": [
       "<Figure size 1200x600 with 1 Axes>"
      ]
     },
     "metadata": {},
     "output_type": "display_data"
    }
   ],
   "source": [
    "# Top 10 Genre \n",
    "\n",
    "Genre_counts = df['Genre'].value_counts()\n",
    "Genre_counts[:10].plot(kind = 'barh', color = sns.color_palette(\"Blues_r\"), title = \"Top 10 Genre\", figsize = (12,6));"
   ]
  },
  {
   "cell_type": "markdown",
   "id": "4e69f78a",
   "metadata": {},
   "source": [
    "### ▶️ The Action Genre is the most genre in Video_games"
   ]
  },
  {
   "cell_type": "code",
   "execution_count": 69,
   "id": "f4addaae",
   "metadata": {},
   "outputs": [
    {
     "data": {
      "image/png": "[encoded data removed]",
      "text/plain": [
       "<Figure size 1200x600 with 1 Axes>"
      ]
     },
     "metadata": {},
     "output_type": "display_data"
    }
   ],
   "source": [
    "# Top 10 Publisher \n",
    "\n",
    "Publisher_counts = df['Publisher'].value_counts()\n",
    "Publisher_counts[:10].plot(kind = 'barh', color = sns.color_palette(\"Blues_r\"), title = \"Top 10 Publisher\", figsize = (12,6));"
   ]
  },
  {
   "cell_type": "markdown",
   "id": "7a7b472d",
   "metadata": {},
   "source": [
    "### ▶️EA is the most Publisher Making Video_Games"
   ]
  },
  {
   "cell_type": "markdown",
   "id": "2336d35f",
   "metadata": {},
   "source": [
    "# What is the biggest platform making money?"
   ]
  },
  {
   "cell_type": "code",
   "execution_count": 109,
   "id": "dee81c23",
   "metadata": {},
   "outputs": [
    {
     "data": {
      "text/plain": [
       "<Figure size 1200x600 with 0 Axes>"
      ]
     },
     "metadata": {},
     "output_type": "display_data"
    },
    {
     "data": {
      "image/png": "[encoded data removed]",
      "text/plain": [
       "<Figure size 1200x600 with 1 Axes>"
      ]
     },
     "metadata": {},
     "output_type": "display_data"
    }
   ],
   "source": [
    "plt.figure(figsize = (12,6))\n",
    "platform_Sales = df.groupby('Platform')[\"Global_Sales\"].sum().to_frame().reset_index().sort_values(by = \"Global_Sales\")\n",
    "platform_Sales.set_index('Platform', inplace=True)\n",
    "platform_Sales.tail(10).plot(kind = 'barh', color = sns.color_palette(\"Blues_r\"), title = \"Top 10 Platform Making money\", figsize = (12,6));"
   ]
  },
  {
   "cell_type": "markdown",
   "id": "b77de0be",
   "metadata": {},
   "source": [
    "### ▶️PS2 is the most platform earn mony based in the Global_Sales"
   ]
  },
  {
   "cell_type": "markdown",
   "id": "e545b44a",
   "metadata": {},
   "source": [
    "# Biggest year earning money"
   ]
  },
  {
   "cell_type": "code",
   "execution_count": 114,
   "id": "ff33d546",
   "metadata": {},
   "outputs": [
    {
     "data": {
      "text/plain": [
       "<Figure size 1200x600 with 0 Axes>"
      ]
     },
     "metadata": {},
     "output_type": "display_data"
    },
    {
     "data": {
      "image/png": "[encoded data removed]",
      "text/plain": [
       "<Figure size 1200x600 with 1 Axes>"
      ]
     },
     "metadata": {},
     "output_type": "display_data"
    }
   ],
   "source": [
    "plt.figure(figsize = (12,6))\n",
    "Year_Sales = df.groupby('Year')[\"Global_Sales\"].sum().to_frame().reset_index().sort_values(by = \"Global_Sales\")\n",
    "Year_Sales.set_index('Year', inplace=True)\n",
    "Year_Sales.tail(10).plot(kind = 'barh', color = sns.color_palette(\"Blues_r\"), title = \"Top 10 Years Making money\", figsize = (12,6));"
   ]
  },
  {
   "cell_type": "markdown",
   "id": "36cff327",
   "metadata": {},
   "source": [
    "### ▶️Year 2008 is the most year erning money based in Global_Sales"
   ]
  },
  {
   "cell_type": "markdown",
   "id": "f9ccb7fd",
   "metadata": {},
   "source": [
    "# Most Publisher earning money"
   ]
  },
  {
   "cell_type": "code",
   "execution_count": 115,
   "id": "627850b9",
   "metadata": {},
   "outputs": [
    {
     "data": {
      "text/plain": [
       "<Figure size 1200x600 with 0 Axes>"
      ]
     },
     "metadata": {},
     "output_type": "display_data"
    },
    {
     "data": {
      "image/png": "[encoded data removed]",
      "text/plain": [
       "<Figure size 1200x600 with 1 Axes>"
      ]
     },
     "metadata": {},
     "output_type": "display_data"
    }
   ],
   "source": [
    "plt.figure(figsize = (12,6))\n",
    "Publisher_Sales = df.groupby('Publisher')[\"Global_Sales\"].sum().to_frame().reset_index().sort_values(by = \"Global_Sales\")\n",
    "Publisher_Sales.set_index('Publisher', inplace=True)\n",
    "Publisher_Sales.tail(10).plot(kind = 'barh', color = sns.color_palette(\"Blues_r\"), title = \"Top 10 Publishers Making money\", figsize = (12,6));"
   ]
  },
  {
   "cell_type": "markdown",
   "id": "02df407b",
   "metadata": {},
   "source": [
    "### ▶️Nintendo is the most Publisher making money based in the Global_Sales"
   ]
  }
 ],
 "metadata": {
  "kernelspec": {
   "display_name": "Python 3 (ipykernel)",
   "language": "python",
   "name": "python3"
  },
  "language_info": {
   "codemirror_mode": {
    "name": "ipython",
    "version": 3
   },
   "file_extension": ".py",
   "mimetype": "text/x-python",
   "name": "python",
   "nbconvert_exporter": "python",
   "pygments_lexer": "ipython3",
   "version": "3.9.13"
  }
 },
 "nbformat": 4,
 "nbformat_minor": 5
}
