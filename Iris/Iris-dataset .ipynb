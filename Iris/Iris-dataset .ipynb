{
 "cells": [
  {
   "cell_type": "markdown",
   "id": "fad7ae6a",
   "metadata": {},
   "source": [
    "## Some Libraries that we will need  "
   ]
  },
  {
   "cell_type": "code",
   "execution_count": 1,
   "id": "fe29ad54",
   "metadata": {},
   "outputs": [],
   "source": [
    "# For preprocessing and Visualization: \n",
    "import pandas as pd\n",
    "import numpy as np\n",
    "import matplotlib.pyplot as plt\n",
    "import seaborn as sns\n",
    "\n",
    "# For trying many technickes to choose the best of them:\n",
    "from sklearn.neighbors import KNeighborsClassifier\n",
    "from sklearn.linear_model import LogisticRegression\n",
    "from sklearn.model_selection import train_test_split\n",
    "\n",
    "# For dissimilarity matrix\n",
    "from sklearn.metrics import pairwise_distances\n",
    "\n",
    "import warnings\n",
    "warnings.filterwarnings(\"ignore\")"
   ]
  },
  {
   "cell_type": "markdown",
   "id": "b8ee7f35",
   "metadata": {},
   "source": [
    "### Reading the data"
   ]
  },
  {
   "cell_type": "code",
   "execution_count": 2,
   "id": "422bd4b4",
   "metadata": {
    "scrolled": true
   },
   "outputs": [
    {
     "data": {
      "text/html": [
       "<div>\n",
       "<style scoped>\n",
       "    .dataframe tbody tr th:only-of-type {\n",
       "        vertical-align: middle;\n",
       "    }\n",
       "\n",
       "    .dataframe tbody tr th {\n",
       "        vertical-align: top;\n",
       "    }\n",
       "\n",
       "    .dataframe thead th {\n",
       "        text-align: right;\n",
       "    }\n",
       "</style>\n",
       "<table border=\"1\" class=\"dataframe\">\n",
       "  <thead>\n",
       "    <tr style=\"text-align: right;\">\n",
       "      <th></th>\n",
       "      <th>sepal_length</th>\n",
       "      <th>sepal_width</th>\n",
       "      <th>petal_length</th>\n",
       "      <th>petal_width</th>\n",
       "      <th>species</th>\n",
       "    </tr>\n",
       "  </thead>\n",
       "  <tbody>\n",
       "    <tr>\n",
       "      <th>0</th>\n",
       "      <td>5.1</td>\n",
       "      <td>3.5</td>\n",
       "      <td>1.4</td>\n",
       "      <td>0.2</td>\n",
       "      <td>setosa</td>\n",
       "    </tr>\n",
       "    <tr>\n",
       "      <th>1</th>\n",
       "      <td>4.9</td>\n",
       "      <td>3.0</td>\n",
       "      <td>1.4</td>\n",
       "      <td>0.2</td>\n",
       "      <td>setosa</td>\n",
       "    </tr>\n",
       "    <tr>\n",
       "      <th>2</th>\n",
       "      <td>4.7</td>\n",
       "      <td>3.2</td>\n",
       "      <td>1.3</td>\n",
       "      <td>0.2</td>\n",
       "      <td>setosa</td>\n",
       "    </tr>\n",
       "    <tr>\n",
       "      <th>3</th>\n",
       "      <td>4.6</td>\n",
       "      <td>3.1</td>\n",
       "      <td>1.5</td>\n",
       "      <td>0.2</td>\n",
       "      <td>setosa</td>\n",
       "    </tr>\n",
       "    <tr>\n",
       "      <th>4</th>\n",
       "      <td>5.0</td>\n",
       "      <td>3.6</td>\n",
       "      <td>1.4</td>\n",
       "      <td>0.2</td>\n",
       "      <td>setosa</td>\n",
       "    </tr>\n",
       "  </tbody>\n",
       "</table>\n",
       "</div>"
      ],
      "text/plain": [
       "   sepal_length  sepal_width  petal_length  petal_width species\n",
       "0           5.1          3.5           1.4          0.2  setosa\n",
       "1           4.9          3.0           1.4          0.2  setosa\n",
       "2           4.7          3.2           1.3          0.2  setosa\n",
       "3           4.6          3.1           1.5          0.2  setosa\n",
       "4           5.0          3.6           1.4          0.2  setosa"
      ]
     },
     "execution_count": 2,
     "metadata": {},
     "output_type": "execute_result"
    }
   ],
   "source": [
    "df = sns.load_dataset(\"iris\")\n",
    "df.head()"
   ]
  },
  {
   "cell_type": "markdown",
   "id": "de401e0a",
   "metadata": {},
   "source": [
    "## Simple view of the data "
   ]
  },
  {
   "cell_type": "code",
   "execution_count": 3,
   "id": "0bb94977",
   "metadata": {},
   "outputs": [
    {
     "name": "stdout",
     "output_type": "stream",
     "text": [
      "There are 150 observations and 5 features in this dataset. \n",
      "\n"
     ]
    }
   ],
   "source": [
    "print(\"There are {} observations and {} features in this dataset. \\n\".format(df.shape[0],df.shape[1]))"
   ]
  },
  {
   "cell_type": "code",
   "execution_count": 4,
   "id": "5121f3d1",
   "metadata": {},
   "outputs": [
    {
     "name": "stdout",
     "output_type": "stream",
     "text": [
      "<class 'pandas.core.frame.DataFrame'>\n",
      "RangeIndex: 150 entries, 0 to 149\n",
      "Data columns (total 5 columns):\n",
      " #   Column        Non-Null Count  Dtype  \n",
      "---  ------        --------------  -----  \n",
      " 0   sepal_length  150 non-null    float64\n",
      " 1   sepal_width   150 non-null    float64\n",
      " 2   petal_length  150 non-null    float64\n",
      " 3   petal_width   150 non-null    float64\n",
      " 4   species       150 non-null    object \n",
      "dtypes: float64(4), object(1)\n",
      "memory usage: 6.0+ KB\n"
     ]
    }
   ],
   "source": [
    "df.info()"
   ]
  },
  {
   "cell_type": "markdown",
   "id": "285ceee3",
   "metadata": {},
   "source": [
    "**Observations:**\n",
    "* There is no null values.\n",
    "* There is no problem with the data types."
   ]
  },
  {
   "cell_type": "code",
   "execution_count": 5,
   "id": "d3a15c7c",
   "metadata": {},
   "outputs": [
    {
     "data": {
      "text/html": [
       "<div>\n",
       "<style scoped>\n",
       "    .dataframe tbody tr th:only-of-type {\n",
       "        vertical-align: middle;\n",
       "    }\n",
       "\n",
       "    .dataframe tbody tr th {\n",
       "        vertical-align: top;\n",
       "    }\n",
       "\n",
       "    .dataframe thead th {\n",
       "        text-align: right;\n",
       "    }\n",
       "</style>\n",
       "<table border=\"1\" class=\"dataframe\">\n",
       "  <thead>\n",
       "    <tr style=\"text-align: right;\">\n",
       "      <th></th>\n",
       "      <th>sepal_length</th>\n",
       "      <th>sepal_width</th>\n",
       "      <th>petal_length</th>\n",
       "      <th>petal_width</th>\n",
       "    </tr>\n",
       "  </thead>\n",
       "  <tbody>\n",
       "    <tr>\n",
       "      <th>count</th>\n",
       "      <td>150.000000</td>\n",
       "      <td>150.000000</td>\n",
       "      <td>150.000000</td>\n",
       "      <td>150.000000</td>\n",
       "    </tr>\n",
       "    <tr>\n",
       "      <th>mean</th>\n",
       "      <td>5.843333</td>\n",
       "      <td>3.057333</td>\n",
       "      <td>3.758000</td>\n",
       "      <td>1.199333</td>\n",
       "    </tr>\n",
       "    <tr>\n",
       "      <th>std</th>\n",
       "      <td>0.828066</td>\n",
       "      <td>0.435866</td>\n",
       "      <td>1.765298</td>\n",
       "      <td>0.762238</td>\n",
       "    </tr>\n",
       "    <tr>\n",
       "      <th>min</th>\n",
       "      <td>4.300000</td>\n",
       "      <td>2.000000</td>\n",
       "      <td>1.000000</td>\n",
       "      <td>0.100000</td>\n",
       "    </tr>\n",
       "    <tr>\n",
       "      <th>25%</th>\n",
       "      <td>5.100000</td>\n",
       "      <td>2.800000</td>\n",
       "      <td>1.600000</td>\n",
       "      <td>0.300000</td>\n",
       "    </tr>\n",
       "    <tr>\n",
       "      <th>50%</th>\n",
       "      <td>5.800000</td>\n",
       "      <td>3.000000</td>\n",
       "      <td>4.350000</td>\n",
       "      <td>1.300000</td>\n",
       "    </tr>\n",
       "    <tr>\n",
       "      <th>75%</th>\n",
       "      <td>6.400000</td>\n",
       "      <td>3.300000</td>\n",
       "      <td>5.100000</td>\n",
       "      <td>1.800000</td>\n",
       "    </tr>\n",
       "    <tr>\n",
       "      <th>max</th>\n",
       "      <td>7.900000</td>\n",
       "      <td>4.400000</td>\n",
       "      <td>6.900000</td>\n",
       "      <td>2.500000</td>\n",
       "    </tr>\n",
       "  </tbody>\n",
       "</table>\n",
       "</div>"
      ],
      "text/plain": [
       "       sepal_length  sepal_width  petal_length  petal_width\n",
       "count    150.000000   150.000000    150.000000   150.000000\n",
       "mean       5.843333     3.057333      3.758000     1.199333\n",
       "std        0.828066     0.435866      1.765298     0.762238\n",
       "min        4.300000     2.000000      1.000000     0.100000\n",
       "25%        5.100000     2.800000      1.600000     0.300000\n",
       "50%        5.800000     3.000000      4.350000     1.300000\n",
       "75%        6.400000     3.300000      5.100000     1.800000\n",
       "max        7.900000     4.400000      6.900000     2.500000"
      ]
     },
     "execution_count": 5,
     "metadata": {},
     "output_type": "execute_result"
    }
   ],
   "source": [
    "df.describe()"
   ]
  },
  {
   "cell_type": "markdown",
   "id": "40b706e5",
   "metadata": {},
   "source": [
    "* The data seems to be alright (No Outliers)"
   ]
  },
  {
   "cell_type": "code",
   "execution_count": 6,
   "id": "6be99a0a",
   "metadata": {},
   "outputs": [
    {
     "data": {
      "text/plain": [
       "3"
      ]
     },
     "execution_count": 6,
     "metadata": {},
     "output_type": "execute_result"
    }
   ],
   "source": [
    "# Number of unique species     \n",
    "df[\"species\"].nunique()"
   ]
  },
  {
   "cell_type": "code",
   "execution_count": 7,
   "id": "e7d6d29f",
   "metadata": {},
   "outputs": [
    {
     "data": {
      "text/plain": [
       "array(['setosa', 'versicolor', 'virginica'], dtype=object)"
      ]
     },
     "execution_count": 7,
     "metadata": {},
     "output_type": "execute_result"
    }
   ],
   "source": [
    "# Showing the uniqye values\n",
    "df[\"species\"].unique()"
   ]
  },
  {
   "cell_type": "code",
   "execution_count": 8,
   "id": "79837c9b",
   "metadata": {},
   "outputs": [
    {
     "data": {
      "text/plain": [
       "1"
      ]
     },
     "execution_count": 8,
     "metadata": {},
     "output_type": "execute_result"
    }
   ],
   "source": [
    "df.duplicated().sum()"
   ]
  },
  {
   "cell_type": "markdown",
   "id": "688eb915",
   "metadata": {},
   "source": [
    "* There is a small amount of duplicates."
   ]
  },
  {
   "cell_type": "code",
   "execution_count": 9,
   "id": "d77eb553",
   "metadata": {},
   "outputs": [
    {
     "name": "stdout",
     "output_type": "stream",
     "text": [
      "\n",
      " ************ sepal_length ************\n",
      "\n",
      "\n",
      " 5.0    10\n",
      "5.1     9\n",
      "6.3     9\n",
      "5.7     8\n",
      "6.7     8\n",
      "5.8     7\n",
      "5.5     7\n",
      "6.4     7\n",
      "4.9     6\n",
      "5.4     6\n",
      "6.1     6\n",
      "6.0     6\n",
      "5.6     6\n",
      "4.8     5\n",
      "6.5     5\n",
      "6.2     4\n",
      "7.7     4\n",
      "6.9     4\n",
      "4.6     4\n",
      "5.2     4\n",
      "5.9     3\n",
      "4.4     3\n",
      "7.2     3\n",
      "6.8     3\n",
      "6.6     2\n",
      "4.7     2\n",
      "7.6     1\n",
      "7.4     1\n",
      "7.3     1\n",
      "7.0     1\n",
      "7.1     1\n",
      "5.3     1\n",
      "4.3     1\n",
      "4.5     1\n",
      "7.9     1\n",
      "Name: sepal_length, dtype: int64\n",
      "\n",
      " count    150.000000\n",
      "mean       5.843333\n",
      "std        0.828066\n",
      "min        4.300000\n",
      "25%        5.100000\n",
      "50%        5.800000\n",
      "75%        6.400000\n",
      "max        7.900000\n",
      "Name: sepal_length, dtype: float64 \n",
      "\n",
      "\n",
      " ************ sepal_width ************\n",
      "\n",
      "\n",
      " 3.0    26\n",
      "2.8    14\n",
      "3.2    13\n",
      "3.4    12\n",
      "3.1    11\n",
      "2.9    10\n",
      "2.7     9\n",
      "2.5     8\n",
      "3.5     6\n",
      "3.3     6\n",
      "3.8     6\n",
      "2.6     5\n",
      "2.3     4\n",
      "3.6     4\n",
      "3.7     3\n",
      "2.4     3\n",
      "2.2     3\n",
      "3.9     2\n",
      "4.4     1\n",
      "4.0     1\n",
      "4.1     1\n",
      "4.2     1\n",
      "2.0     1\n",
      "Name: sepal_width, dtype: int64\n",
      "\n",
      " count    150.000000\n",
      "mean       3.057333\n",
      "std        0.435866\n",
      "min        2.000000\n",
      "25%        2.800000\n",
      "50%        3.000000\n",
      "75%        3.300000\n",
      "max        4.400000\n",
      "Name: sepal_width, dtype: float64 \n",
      "\n",
      "\n",
      " ************ petal_length ************\n",
      "\n",
      "\n",
      " 1.4    13\n",
      "1.5    13\n",
      "5.1     8\n",
      "4.5     8\n",
      "1.6     7\n",
      "1.3     7\n",
      "5.6     6\n",
      "4.7     5\n",
      "4.9     5\n",
      "4.0     5\n",
      "4.2     4\n",
      "5.0     4\n",
      "4.4     4\n",
      "4.8     4\n",
      "1.7     4\n",
      "3.9     3\n",
      "4.6     3\n",
      "5.7     3\n",
      "4.1     3\n",
      "5.5     3\n",
      "6.1     3\n",
      "5.8     3\n",
      "3.3     2\n",
      "5.4     2\n",
      "6.7     2\n",
      "5.3     2\n",
      "5.9     2\n",
      "6.0     2\n",
      "1.2     2\n",
      "4.3     2\n",
      "1.9     2\n",
      "3.5     2\n",
      "5.2     2\n",
      "3.0     1\n",
      "1.1     1\n",
      "3.7     1\n",
      "3.8     1\n",
      "6.6     1\n",
      "6.3     1\n",
      "1.0     1\n",
      "6.9     1\n",
      "3.6     1\n",
      "6.4     1\n",
      "Name: petal_length, dtype: int64\n",
      "\n",
      " count    150.000000\n",
      "mean       3.758000\n",
      "std        1.765298\n",
      "min        1.000000\n",
      "25%        1.600000\n",
      "50%        4.350000\n",
      "75%        5.100000\n",
      "max        6.900000\n",
      "Name: petal_length, dtype: float64 \n",
      "\n",
      "\n",
      " ************ petal_width ************\n",
      "\n",
      "\n",
      " 0.2    29\n",
      "1.3    13\n",
      "1.8    12\n",
      "1.5    12\n",
      "1.4     8\n",
      "2.3     8\n",
      "1.0     7\n",
      "0.4     7\n",
      "0.3     7\n",
      "2.1     6\n",
      "2.0     6\n",
      "0.1     5\n",
      "1.2     5\n",
      "1.9     5\n",
      "1.6     4\n",
      "2.5     3\n",
      "2.2     3\n",
      "2.4     3\n",
      "1.1     3\n",
      "1.7     2\n",
      "0.6     1\n",
      "0.5     1\n",
      "Name: petal_width, dtype: int64\n",
      "\n",
      " count    150.000000\n",
      "mean       1.199333\n",
      "std        0.762238\n",
      "min        0.100000\n",
      "25%        0.300000\n",
      "50%        1.300000\n",
      "75%        1.800000\n",
      "max        2.500000\n",
      "Name: petal_width, dtype: float64 \n",
      "\n",
      "\n",
      " ************ species ************\n",
      "\n",
      "\n",
      " setosa        50\n",
      "versicolor    50\n",
      "virginica     50\n",
      "Name: species, dtype: int64\n",
      "\n",
      " count        150\n",
      "unique         3\n",
      "top       setosa\n",
      "freq          50\n",
      "Name: species, dtype: object \n",
      "\n"
     ]
    }
   ],
   "source": [
    "for i in list(df.columns):\n",
    "    \n",
    "    print(\"\\n ************ \"+i+\" ************\\n\")\n",
    "    print(\"\\n\",df[i].value_counts())\n",
    "    print(\"\\n\",df[i].describe(),\"\\n\")"
   ]
  },
  {
   "cell_type": "markdown",
   "id": "a46bffe1",
   "metadata": {},
   "source": [
    "* The data seems to be alright (No Wrong values)\n",
    "* The species column is a balanced class"
   ]
  },
  {
   "cell_type": "code",
   "execution_count": 10,
   "id": "2d6c36c1",
   "metadata": {},
   "outputs": [
    {
     "data": {
      "text/plain": [
       "0"
      ]
     },
     "execution_count": 10,
     "metadata": {},
     "output_type": "execute_result"
    }
   ],
   "source": [
    "df.drop_duplicates(inplace=True)\n",
    "df.duplicated().sum()"
   ]
  },
  {
   "cell_type": "code",
   "execution_count": 11,
   "id": "fb1b9e00",
   "metadata": {
    "scrolled": true
   },
   "outputs": [
    {
     "data": {
      "text/plain": [
       "setosa        50\n",
       "versicolor    50\n",
       "virginica     49\n",
       "Name: species, dtype: int64"
      ]
     },
     "execution_count": 11,
     "metadata": {},
     "output_type": "execute_result"
    }
   ],
   "source": [
    "df[\"species\"].value_counts()"
   ]
  },
  {
   "cell_type": "markdown",
   "id": "714cf8d2",
   "metadata": {},
   "source": [
    "## Visualization "
   ]
  },
  {
   "cell_type": "code",
   "execution_count": 12,
   "id": "d8f08244",
   "metadata": {
    "scrolled": false
   },
   "outputs": [
    {
     "data": {
      "image/png": "[encoded data removed]",
      "text/plain": [
       "<Figure size 1200x600 with 1 Axes>"
      ]
     },
     "metadata": {},
     "output_type": "display_data"
    }
   ],
   "source": [
    "plt.figure(figsize = (12, 6))\n",
    "species_df = (df['species'].value_counts(normalize = True)).sort_values(ascending = False).to_frame()\n",
    "plt.pie(species_df['species'], labels = species_df.index, colors = sns.color_palette(\"Blues_r\")\n",
    "       ,autopct = '%0.2f%%');\n",
    "plt.title(\"Species\");"
   ]
  },
  {
   "cell_type": "markdown",
   "id": "5e1ea348",
   "metadata": {},
   "source": [
    "### The data is Balanced "
   ]
  },
  {
   "cell_type": "code",
   "execution_count": 13,
   "id": "2d1ceca1",
   "metadata": {},
   "outputs": [
    {
     "data": {
      "image/png": "[encoded data removed]",
      "text/plain": [
       "<Figure size 617.75x500 with 1 Axes>"
      ]
     },
     "metadata": {},
     "output_type": "display_data"
    }
   ],
   "source": [
    "sns.FacetGrid(df, hue=\"species\", size=5) \\\n",
    "   .map(plt.scatter, \"sepal_length\", \"sepal_width\") \\\n",
    "   .add_legend();"
   ]
  },
  {
   "cell_type": "code",
   "execution_count": 14,
   "id": "759d9530",
   "metadata": {},
   "outputs": [
    {
     "data": {
      "image/png": "[encoded data removed]",
      "text/plain": [
       "<Figure size 640x480 with 1 Axes>"
      ]
     },
     "metadata": {},
     "output_type": "display_data"
    }
   ],
   "source": [
    "lineHist_data = df.groupby(\"sepal_length\")[\"sepal_width\"].agg(np.mean)\n",
    "fig, ax = plt.subplots()\n",
    "lineHist_data.plot.kde(ax=ax)\n",
    "lineHist_data.plot.hist(density=True, ax=ax,bins=5)\n",
    "plt.title(\"Line Histogram\");"
   ]
  },
  {
   "cell_type": "markdown",
   "id": "3e4d1f66",
   "metadata": {},
   "source": [
    "### Our data is Normally Distributed "
   ]
  },
  {
   "cell_type": "code",
   "execution_count": 15,
   "id": "68bb5c28",
   "metadata": {},
   "outputs": [
    {
     "data": {
      "image/png": "[encoded data removed]",
      "text/plain": [
       "<Figure size 640x480 with 1 Axes>"
      ]
     },
     "metadata": {},
     "output_type": "display_data"
    }
   ],
   "source": [
    "plt.scatter(x=df.sepal_width,y=df.sepal_length,alpha=0.5,s=50*df.petal_length,c=\"#000080\")\n",
    "plt.title(\"Scatter Chart\")\n",
    "plt.xlabel(\"Sepal-width\")\n",
    "plt.ylabel(\"Sepal-length\");"
   ]
  },
  {
   "cell_type": "markdown",
   "id": "300e09ac",
   "metadata": {},
   "source": [
    "##  Building the model"
   ]
  },
  {
   "cell_type": "code",
   "execution_count": 16,
   "id": "0dca309a",
   "metadata": {},
   "outputs": [
    {
     "data": {
      "text/html": [
       "<div>\n",
       "<style scoped>\n",
       "    .dataframe tbody tr th:only-of-type {\n",
       "        vertical-align: middle;\n",
       "    }\n",
       "\n",
       "    .dataframe tbody tr th {\n",
       "        vertical-align: top;\n",
       "    }\n",
       "\n",
       "    .dataframe thead th {\n",
       "        text-align: right;\n",
       "    }\n",
       "</style>\n",
       "<table border=\"1\" class=\"dataframe\">\n",
       "  <thead>\n",
       "    <tr style=\"text-align: right;\">\n",
       "      <th></th>\n",
       "      <th>sepal_length</th>\n",
       "      <th>sepal_width</th>\n",
       "      <th>petal_length</th>\n",
       "      <th>petal_width</th>\n",
       "      <th>species</th>\n",
       "    </tr>\n",
       "  </thead>\n",
       "  <tbody>\n",
       "    <tr>\n",
       "      <th>0</th>\n",
       "      <td>5.1</td>\n",
       "      <td>3.5</td>\n",
       "      <td>1.4</td>\n",
       "      <td>0.2</td>\n",
       "      <td>setosa</td>\n",
       "    </tr>\n",
       "    <tr>\n",
       "      <th>1</th>\n",
       "      <td>4.9</td>\n",
       "      <td>3.0</td>\n",
       "      <td>1.4</td>\n",
       "      <td>0.2</td>\n",
       "      <td>setosa</td>\n",
       "    </tr>\n",
       "    <tr>\n",
       "      <th>2</th>\n",
       "      <td>4.7</td>\n",
       "      <td>3.2</td>\n",
       "      <td>1.3</td>\n",
       "      <td>0.2</td>\n",
       "      <td>setosa</td>\n",
       "    </tr>\n",
       "    <tr>\n",
       "      <th>3</th>\n",
       "      <td>4.6</td>\n",
       "      <td>3.1</td>\n",
       "      <td>1.5</td>\n",
       "      <td>0.2</td>\n",
       "      <td>setosa</td>\n",
       "    </tr>\n",
       "    <tr>\n",
       "      <th>4</th>\n",
       "      <td>5.0</td>\n",
       "      <td>3.6</td>\n",
       "      <td>1.4</td>\n",
       "      <td>0.2</td>\n",
       "      <td>setosa</td>\n",
       "    </tr>\n",
       "  </tbody>\n",
       "</table>\n",
       "</div>"
      ],
      "text/plain": [
       "   sepal_length  sepal_width  petal_length  petal_width species\n",
       "0           5.1          3.5           1.4          0.2  setosa\n",
       "1           4.9          3.0           1.4          0.2  setosa\n",
       "2           4.7          3.2           1.3          0.2  setosa\n",
       "3           4.6          3.1           1.5          0.2  setosa\n",
       "4           5.0          3.6           1.4          0.2  setosa"
      ]
     },
     "execution_count": 16,
     "metadata": {},
     "output_type": "execute_result"
    }
   ],
   "source": [
    "df.head() "
   ]
  },
  {
   "cell_type": "code",
   "execution_count": 17,
   "id": "81ad0cfb",
   "metadata": {},
   "outputs": [],
   "source": [
    "# Spliting the data into our Feature matrix (X) and our Target vector (y) \n",
    "X = df.drop(columns = \"species\")\n",
    "y = df.species"
   ]
  },
  {
   "cell_type": "code",
   "execution_count": 18,
   "id": "09f2540e",
   "metadata": {},
   "outputs": [
    {
     "name": "stdout",
     "output_type": "stream",
     "text": [
      "X shape is: (149, 4)\n",
      "y shape is: (149,)\n"
     ]
    }
   ],
   "source": [
    "print(\"X shape is:\",X.shape)\n",
    "print(\"y shape is:\",y.shape)"
   ]
  },
  {
   "cell_type": "code",
   "execution_count": 19,
   "id": "fd4a98d9",
   "metadata": {},
   "outputs": [
    {
     "name": "stdout",
     "output_type": "stream",
     "text": [
      "X_train shape is: (104, 4)\n",
      "y_train shape is: (104,)\n",
      "X_test shape is: (45, 4)\n",
      "y_test shape is: (45,)\n"
     ]
    }
   ],
   "source": [
    "# Spliting the data into training and testing data\n",
    "X_train, X_test, y_train, y_test = train_test_split(X, y, test_size = 0.3, random_state=45)\n",
    "\n",
    "print(\"X_train shape is:\",X_train.shape)\n",
    "print(\"y_train shape is:\",y_train.shape)\n",
    "print(\"X_test shape is:\",X_test.shape)\n",
    "print(\"y_test shape is:\",y_test.shape)"
   ]
  },
  {
   "cell_type": "markdown",
   "id": "3cad79d4",
   "metadata": {},
   "source": [
    "###  KNeighborsClassifier Model"
   ]
  },
  {
   "cell_type": "code",
   "execution_count": 20,
   "id": "c4e2d539",
   "metadata": {},
   "outputs": [
    {
     "data": {
      "text/plain": [
       "KNeighborsClassifier(n_neighbors=12)"
      ]
     },
     "execution_count": 20,
     "metadata": {},
     "output_type": "execute_result"
    }
   ],
   "source": [
    "knn_model = KNeighborsClassifier(n_neighbors=12)\n",
    "knn_model.fit(X, y)"
   ]
  },
  {
   "cell_type": "code",
   "execution_count": 21,
   "id": "0f85a0ce",
   "metadata": {},
   "outputs": [
    {
     "name": "stdout",
     "output_type": "stream",
     "text": [
      "Training Accuracy: 0.97 %\n",
      "Testing Accuracy: 1.0 %\n"
     ]
    }
   ],
   "source": [
    "# Getting the score of train and test data\n",
    "print(\"Training Accuracy:\" , round(knn_model.score(X_train, y_train),2),\"%\")\n",
    "print(\"Testing Accuracy:\" , round(knn_model.score(X_test, y_test),2),\"%\")"
   ]
  },
  {
   "cell_type": "markdown",
   "id": "b24ea852",
   "metadata": {},
   "source": [
    "### LogisticRegression Model "
   ]
  },
  {
   "cell_type": "code",
   "execution_count": 22,
   "id": "06384bcc",
   "metadata": {},
   "outputs": [
    {
     "data": {
      "text/plain": [
       "LogisticRegression()"
      ]
     },
     "execution_count": 22,
     "metadata": {},
     "output_type": "execute_result"
    }
   ],
   "source": [
    "LR_model = LogisticRegression()\n",
    "LR_model.fit(X, y)"
   ]
  },
  {
   "cell_type": "code",
   "execution_count": 23,
   "id": "f23515bf",
   "metadata": {},
   "outputs": [
    {
     "name": "stdout",
     "output_type": "stream",
     "text": [
      "Training Accuracy: 0.96 %\n",
      "Testing Accuracy: 1.0 %\n"
     ]
    }
   ],
   "source": [
    "# Getting the score of train and test data\n",
    "print(\"Training Accuracy:\" , round(LR_model.score(X_train, y_train),2),\"%\")\n",
    "print(\"Testing Accuracy:\" , round(LR_model.score(X_test, y_test),2),\"%\")"
   ]
  },
  {
   "cell_type": "markdown",
   "id": "a85a40ac",
   "metadata": {},
   "source": [
    "### Euclidean Dissimilarity matrix "
   ]
  },
  {
   "cell_type": "code",
   "execution_count": 24,
   "id": "bead56a0",
   "metadata": {},
   "outputs": [
    {
     "data": {
      "text/html": [
       "<div>\n",
       "<style scoped>\n",
       "    .dataframe tbody tr th:only-of-type {\n",
       "        vertical-align: middle;\n",
       "    }\n",
       "\n",
       "    .dataframe tbody tr th {\n",
       "        vertical-align: top;\n",
       "    }\n",
       "\n",
       "    .dataframe thead th {\n",
       "        text-align: right;\n",
       "    }\n",
       "</style>\n",
       "<table border=\"1\" class=\"dataframe\">\n",
       "  <thead>\n",
       "    <tr style=\"text-align: right;\">\n",
       "      <th></th>\n",
       "      <th>0</th>\n",
       "      <th>1</th>\n",
       "      <th>2</th>\n",
       "      <th>3</th>\n",
       "      <th>4</th>\n",
       "      <th>5</th>\n",
       "      <th>6</th>\n",
       "      <th>7</th>\n",
       "      <th>8</th>\n",
       "      <th>9</th>\n",
       "      <th>...</th>\n",
       "      <th>139</th>\n",
       "      <th>140</th>\n",
       "      <th>141</th>\n",
       "      <th>142</th>\n",
       "      <th>143</th>\n",
       "      <th>144</th>\n",
       "      <th>145</th>\n",
       "      <th>146</th>\n",
       "      <th>147</th>\n",
       "      <th>148</th>\n",
       "    </tr>\n",
       "  </thead>\n",
       "  <tbody>\n",
       "    <tr>\n",
       "      <th>0</th>\n",
       "      <td>0.000000</td>\n",
       "      <td>0.538516</td>\n",
       "      <td>0.509902</td>\n",
       "      <td>0.648074</td>\n",
       "      <td>0.141421</td>\n",
       "      <td>0.616441</td>\n",
       "      <td>0.519615</td>\n",
       "      <td>0.173205</td>\n",
       "      <td>0.921954</td>\n",
       "      <td>0.469042</td>\n",
       "      <td>...</td>\n",
       "      <td>4.796874</td>\n",
       "      <td>5.019960</td>\n",
       "      <td>4.636809</td>\n",
       "      <td>5.257376</td>\n",
       "      <td>5.136146</td>\n",
       "      <td>4.654031</td>\n",
       "      <td>4.276681</td>\n",
       "      <td>4.459821</td>\n",
       "      <td>4.650806</td>\n",
       "      <td>4.140048</td>\n",
       "    </tr>\n",
       "    <tr>\n",
       "      <th>1</th>\n",
       "      <td>0.538516</td>\n",
       "      <td>0.000000</td>\n",
       "      <td>0.300000</td>\n",
       "      <td>0.331662</td>\n",
       "      <td>0.608276</td>\n",
       "      <td>1.090871</td>\n",
       "      <td>0.509902</td>\n",
       "      <td>0.424264</td>\n",
       "      <td>0.509902</td>\n",
       "      <td>0.173205</td>\n",
       "      <td>...</td>\n",
       "      <td>4.860041</td>\n",
       "      <td>5.072475</td>\n",
       "      <td>4.702127</td>\n",
       "      <td>5.320714</td>\n",
       "      <td>5.206726</td>\n",
       "      <td>4.700000</td>\n",
       "      <td>4.249706</td>\n",
       "      <td>4.498889</td>\n",
       "      <td>4.718050</td>\n",
       "      <td>4.153312</td>\n",
       "    </tr>\n",
       "    <tr>\n",
       "      <th>2</th>\n",
       "      <td>0.509902</td>\n",
       "      <td>0.300000</td>\n",
       "      <td>0.000000</td>\n",
       "      <td>0.244949</td>\n",
       "      <td>0.509902</td>\n",
       "      <td>1.086278</td>\n",
       "      <td>0.264575</td>\n",
       "      <td>0.412311</td>\n",
       "      <td>0.435890</td>\n",
       "      <td>0.316228</td>\n",
       "      <td>...</td>\n",
       "      <td>5.026927</td>\n",
       "      <td>5.228767</td>\n",
       "      <td>4.868265</td>\n",
       "      <td>5.475400</td>\n",
       "      <td>5.353504</td>\n",
       "      <td>4.864155</td>\n",
       "      <td>4.430576</td>\n",
       "      <td>4.661545</td>\n",
       "      <td>4.848711</td>\n",
       "      <td>4.298837</td>\n",
       "    </tr>\n",
       "    <tr>\n",
       "      <th>3</th>\n",
       "      <td>0.648074</td>\n",
       "      <td>0.331662</td>\n",
       "      <td>0.244949</td>\n",
       "      <td>0.000000</td>\n",
       "      <td>0.648074</td>\n",
       "      <td>1.166190</td>\n",
       "      <td>0.331662</td>\n",
       "      <td>0.500000</td>\n",
       "      <td>0.300000</td>\n",
       "      <td>0.316228</td>\n",
       "      <td>...</td>\n",
       "      <td>4.910193</td>\n",
       "      <td>5.104900</td>\n",
       "      <td>4.760252</td>\n",
       "      <td>5.349766</td>\n",
       "      <td>5.232590</td>\n",
       "      <td>4.745524</td>\n",
       "      <td>4.288356</td>\n",
       "      <td>4.533211</td>\n",
       "      <td>4.719110</td>\n",
       "      <td>4.149699</td>\n",
       "    </tr>\n",
       "    <tr>\n",
       "      <th>4</th>\n",
       "      <td>0.141421</td>\n",
       "      <td>0.608276</td>\n",
       "      <td>0.509902</td>\n",
       "      <td>0.648074</td>\n",
       "      <td>0.000000</td>\n",
       "      <td>0.616441</td>\n",
       "      <td>0.458258</td>\n",
       "      <td>0.223607</td>\n",
       "      <td>0.921954</td>\n",
       "      <td>0.529150</td>\n",
       "      <td>...</td>\n",
       "      <td>4.844585</td>\n",
       "      <td>5.061620</td>\n",
       "      <td>4.686150</td>\n",
       "      <td>5.297169</td>\n",
       "      <td>5.173007</td>\n",
       "      <td>4.701064</td>\n",
       "      <td>4.330127</td>\n",
       "      <td>4.504442</td>\n",
       "      <td>4.678675</td>\n",
       "      <td>4.173727</td>\n",
       "    </tr>\n",
       "  </tbody>\n",
       "</table>\n",
       "<p>5 rows × 149 columns</p>\n",
       "</div>"
      ],
      "text/plain": [
       "        0         1         2         3         4         5         6    \\\n",
       "0  0.000000  0.538516  0.509902  0.648074  0.141421  0.616441  0.519615   \n",
       "1  0.538516  0.000000  0.300000  0.331662  0.608276  1.090871  0.509902   \n",
       "2  0.509902  0.300000  0.000000  0.244949  0.509902  1.086278  0.264575   \n",
       "3  0.648074  0.331662  0.244949  0.000000  0.648074  1.166190  0.331662   \n",
       "4  0.141421  0.608276  0.509902  0.648074  0.000000  0.616441  0.458258   \n",
       "\n",
       "        7         8         9    ...       139       140       141       142  \\\n",
       "0  0.173205  0.921954  0.469042  ...  4.796874  5.019960  4.636809  5.257376   \n",
       "1  0.424264  0.509902  0.173205  ...  4.860041  5.072475  4.702127  5.320714   \n",
       "2  0.412311  0.435890  0.316228  ...  5.026927  5.228767  4.868265  5.475400   \n",
       "3  0.500000  0.300000  0.316228  ...  4.910193  5.104900  4.760252  5.349766   \n",
       "4  0.223607  0.921954  0.529150  ...  4.844585  5.061620  4.686150  5.297169   \n",
       "\n",
       "        143       144       145       146       147       148  \n",
       "0  5.136146  4.654031  4.276681  4.459821  4.650806  4.140048  \n",
       "1  5.206726  4.700000  4.249706  4.498889  4.718050  4.153312  \n",
       "2  5.353504  4.864155  4.430576  4.661545  4.848711  4.298837  \n",
       "3  5.232590  4.745524  4.288356  4.533211  4.719110  4.149699  \n",
       "4  5.173007  4.701064  4.330127  4.504442  4.678675  4.173727  \n",
       "\n",
       "[5 rows x 149 columns]"
      ]
     },
     "execution_count": 24,
     "metadata": {},
     "output_type": "execute_result"
    }
   ],
   "source": [
    "euclidean_distance = pairwise_distances(df.drop(columns = \"species\"), metric='euclidean')\n",
    "\n",
    "euclidean_dissimilarity_matrix = pd.DataFrame(euclidean_distance, columns=range(len(df)), index=range(len(df)))\n",
    "euclidean_dissimilarity_matrix.head()"
   ]
  },
  {
   "cell_type": "code",
   "execution_count": 25,
   "id": "31493bce",
   "metadata": {},
   "outputs": [],
   "source": [
    "# Saving the dissimilarity_matrix to a CSV file\n",
    "euclidean_dissimilarity_matrix.to_csv('D:/Mzakra/Semester 5/Data Science Tools/euclidean_dissimilarity_matrix.csv')"
   ]
  },
  {
   "cell_type": "markdown",
   "id": "a95cae89",
   "metadata": {},
   "source": [
    "### Cosine Dissimilarity matrix "
   ]
  },
  {
   "cell_type": "code",
   "execution_count": 26,
   "id": "77ab2332",
   "metadata": {
    "scrolled": true
   },
   "outputs": [
    {
     "data": {
      "text/html": [
       "<div>\n",
       "<style scoped>\n",
       "    .dataframe tbody tr th:only-of-type {\n",
       "        vertical-align: middle;\n",
       "    }\n",
       "\n",
       "    .dataframe tbody tr th {\n",
       "        vertical-align: top;\n",
       "    }\n",
       "\n",
       "    .dataframe thead th {\n",
       "        text-align: right;\n",
       "    }\n",
       "</style>\n",
       "<table border=\"1\" class=\"dataframe\">\n",
       "  <thead>\n",
       "    <tr style=\"text-align: right;\">\n",
       "      <th></th>\n",
       "      <th>0</th>\n",
       "      <th>1</th>\n",
       "      <th>2</th>\n",
       "      <th>3</th>\n",
       "      <th>4</th>\n",
       "      <th>5</th>\n",
       "      <th>6</th>\n",
       "      <th>7</th>\n",
       "      <th>8</th>\n",
       "      <th>9</th>\n",
       "      <th>...</th>\n",
       "      <th>139</th>\n",
       "      <th>140</th>\n",
       "      <th>141</th>\n",
       "      <th>142</th>\n",
       "      <th>143</th>\n",
       "      <th>144</th>\n",
       "      <th>145</th>\n",
       "      <th>146</th>\n",
       "      <th>147</th>\n",
       "      <th>148</th>\n",
       "    </tr>\n",
       "  </thead>\n",
       "  <tbody>\n",
       "    <tr>\n",
       "      <th>0</th>\n",
       "      <td>2.220446e-16</td>\n",
       "      <td>1.420836e-03</td>\n",
       "      <td>0.000013</td>\n",
       "      <td>8.993932e-04</td>\n",
       "      <td>0.000242</td>\n",
       "      <td>0.000997</td>\n",
       "      <td>0.000920</td>\n",
       "      <td>0.000220</td>\n",
       "      <td>0.000865</td>\n",
       "      <td>0.001235</td>\n",
       "      <td>...</td>\n",
       "      <td>0.106492</td>\n",
       "      <td>0.121744</td>\n",
       "      <td>0.101473</td>\n",
       "      <td>0.124387</td>\n",
       "      <td>0.121381</td>\n",
       "      <td>0.110444</td>\n",
       "      <td>0.119100</td>\n",
       "      <td>0.108214</td>\n",
       "      <td>0.116091</td>\n",
       "      <td>0.113297</td>\n",
       "    </tr>\n",
       "    <tr>\n",
       "      <th>1</th>\n",
       "      <td>1.420836e-03</td>\n",
       "      <td>1.110223e-16</td>\n",
       "      <td>0.001209</td>\n",
       "      <td>1.206070e-03</td>\n",
       "      <td>0.002759</td>\n",
       "      <td>0.003074</td>\n",
       "      <td>0.003720</td>\n",
       "      <td>0.001086</td>\n",
       "      <td>0.000739</td>\n",
       "      <td>0.000348</td>\n",
       "      <td>...</td>\n",
       "      <td>0.093807</td>\n",
       "      <td>0.109221</td>\n",
       "      <td>0.089087</td>\n",
       "      <td>0.111931</td>\n",
       "      <td>0.109781</td>\n",
       "      <td>0.097767</td>\n",
       "      <td>0.104488</td>\n",
       "      <td>0.095850</td>\n",
       "      <td>0.106200</td>\n",
       "      <td>0.102126</td>\n",
       "    </tr>\n",
       "    <tr>\n",
       "      <th>2</th>\n",
       "      <td>1.265272e-05</td>\n",
       "      <td>1.208547e-03</td>\n",
       "      <td>0.000000</td>\n",
       "      <td>7.830166e-04</td>\n",
       "      <td>0.000332</td>\n",
       "      <td>0.000961</td>\n",
       "      <td>0.000964</td>\n",
       "      <td>0.000172</td>\n",
       "      <td>0.000717</td>\n",
       "      <td>0.001092</td>\n",
       "      <td>...</td>\n",
       "      <td>0.104634</td>\n",
       "      <td>0.119797</td>\n",
       "      <td>0.099600</td>\n",
       "      <td>0.122472</td>\n",
       "      <td>0.119482</td>\n",
       "      <td>0.108522</td>\n",
       "      <td>0.117090</td>\n",
       "      <td>0.106371</td>\n",
       "      <td>0.114331</td>\n",
       "      <td>0.111541</td>\n",
       "    </tr>\n",
       "    <tr>\n",
       "      <th>3</th>\n",
       "      <td>8.993932e-04</td>\n",
       "      <td>1.206070e-03</td>\n",
       "      <td>0.000783</td>\n",
       "      <td>1.110223e-16</td>\n",
       "      <td>0.001283</td>\n",
       "      <td>0.000865</td>\n",
       "      <td>0.001304</td>\n",
       "      <td>0.000231</td>\n",
       "      <td>0.000061</td>\n",
       "      <td>0.000614</td>\n",
       "      <td>...</td>\n",
       "      <td>0.089733</td>\n",
       "      <td>0.104040</td>\n",
       "      <td>0.085714</td>\n",
       "      <td>0.106114</td>\n",
       "      <td>0.103760</td>\n",
       "      <td>0.093828</td>\n",
       "      <td>0.101420</td>\n",
       "      <td>0.091231</td>\n",
       "      <td>0.098765</td>\n",
       "      <td>0.095558</td>\n",
       "    </tr>\n",
       "    <tr>\n",
       "      <th>4</th>\n",
       "      <td>2.423233e-04</td>\n",
       "      <td>2.759204e-03</td>\n",
       "      <td>0.000332</td>\n",
       "      <td>1.282958e-03</td>\n",
       "      <td>0.000000</td>\n",
       "      <td>0.000700</td>\n",
       "      <td>0.000397</td>\n",
       "      <td>0.000535</td>\n",
       "      <td>0.001470</td>\n",
       "      <td>0.002247</td>\n",
       "      <td>...</td>\n",
       "      <td>0.109453</td>\n",
       "      <td>0.124403</td>\n",
       "      <td>0.104496</td>\n",
       "      <td>0.126901</td>\n",
       "      <td>0.123621</td>\n",
       "      <td>0.113415</td>\n",
       "      <td>0.122762</td>\n",
       "      <td>0.110976</td>\n",
       "      <td>0.117599</td>\n",
       "      <td>0.115342</td>\n",
       "    </tr>\n",
       "  </tbody>\n",
       "</table>\n",
       "<p>5 rows × 149 columns</p>\n",
       "</div>"
      ],
      "text/plain": [
       "            0             1         2             3         4         5    \\\n",
       "0  2.220446e-16  1.420836e-03  0.000013  8.993932e-04  0.000242  0.000997   \n",
       "1  1.420836e-03  1.110223e-16  0.001209  1.206070e-03  0.002759  0.003074   \n",
       "2  1.265272e-05  1.208547e-03  0.000000  7.830166e-04  0.000332  0.000961   \n",
       "3  8.993932e-04  1.206070e-03  0.000783  1.110223e-16  0.001283  0.000865   \n",
       "4  2.423233e-04  2.759204e-03  0.000332  1.282958e-03  0.000000  0.000700   \n",
       "\n",
       "        6         7         8         9    ...       139       140       141  \\\n",
       "0  0.000920  0.000220  0.000865  0.001235  ...  0.106492  0.121744  0.101473   \n",
       "1  0.003720  0.001086  0.000739  0.000348  ...  0.093807  0.109221  0.089087   \n",
       "2  0.000964  0.000172  0.000717  0.001092  ...  0.104634  0.119797  0.099600   \n",
       "3  0.001304  0.000231  0.000061  0.000614  ...  0.089733  0.104040  0.085714   \n",
       "4  0.000397  0.000535  0.001470  0.002247  ...  0.109453  0.124403  0.104496   \n",
       "\n",
       "        142       143       144       145       146       147       148  \n",
       "0  0.124387  0.121381  0.110444  0.119100  0.108214  0.116091  0.113297  \n",
       "1  0.111931  0.109781  0.097767  0.104488  0.095850  0.106200  0.102126  \n",
       "2  0.122472  0.119482  0.108522  0.117090  0.106371  0.114331  0.111541  \n",
       "3  0.106114  0.103760  0.093828  0.101420  0.091231  0.098765  0.095558  \n",
       "4  0.126901  0.123621  0.113415  0.122762  0.110976  0.117599  0.115342  \n",
       "\n",
       "[5 rows x 149 columns]"
      ]
     },
     "execution_count": 26,
     "metadata": {},
     "output_type": "execute_result"
    }
   ],
   "source": [
    "cosine_distance = pairwise_distances(df.drop(columns = \"species\"), metric='cosine')\n",
    "\n",
    "cosine_dissimilarity_matrix = pd.DataFrame(cosine_distance, columns=range(len(df)), index=range(len(df)))\n",
    "cosine_dissimilarity_matrix.head()"
   ]
  },
  {
   "cell_type": "code",
   "execution_count": 27,
   "id": "ee5c5cb0",
   "metadata": {},
   "outputs": [],
   "source": [
    "# Saving the dissimilarity_matrix to a CSV file\n",
    "cosine_dissimilarity_matrix.to_csv('D:/Mzakra/Semester 5/Data Science Tools/cosine_dissimilarity_matrix.csv')"
   ]
  },
  {
   "cell_type": "code",
   "execution_count": null,
   "id": "3779446b",
   "metadata": {},
   "outputs": [],
   "source": []
  }
 ],
 "metadata": {
  "kernelspec": {
   "display_name": "Python 3 (ipykernel)",
   "language": "python",
   "name": "python3"
  },
  "language_info": {
   "codemirror_mode": {
    "name": "ipython",
    "version": 3
   },
   "file_extension": ".py",
   "mimetype": "text/x-python",
   "name": "python",
   "nbconvert_exporter": "python",
   "pygments_lexer": "ipython3",
   "version": "3.9.13"
  }
 },
 "nbformat": 4,
 "nbformat_minor": 5
}
